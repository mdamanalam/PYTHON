{
 "cells": [
  {
   "cell_type": "code",
   "execution_count": 1,
   "id": "f86cada5",
   "metadata": {},
   "outputs": [],
   "source": [
    "  import numpy as np"
   ]
  },
  {
   "cell_type": "code",
   "execution_count": 2,
   "id": "a37200bf",
   "metadata": {},
   "outputs": [
    {
     "data": {
      "text/plain": [
       "array([2, 4, 5])"
      ]
     },
     "execution_count": 2,
     "metadata": {},
     "output_type": "execute_result"
    }
   ],
   "source": [
    "a = np.array([2,4,5])\n",
    "a"
   ]
  },
  {
   "cell_type": "code",
   "execution_count": 3,
   "id": "65432ad4",
   "metadata": {},
   "outputs": [
    {
     "data": {
      "text/plain": [
       "numpy.ndarray"
      ]
     },
     "execution_count": 3,
     "metadata": {},
     "output_type": "execute_result"
    }
   ],
   "source": [
    "type(a)"
   ]
  },
  {
   "cell_type": "code",
   "execution_count": 4,
   "id": "1fd69096",
   "metadata": {},
   "outputs": [
    {
     "data": {
      "text/plain": [
       "(3,)"
      ]
     },
     "execution_count": 4,
     "metadata": {},
     "output_type": "execute_result"
    }
   ],
   "source": [
    "a.shape"
   ]
  },
  {
   "cell_type": "code",
   "execution_count": 5,
   "id": "85736b0f",
   "metadata": {},
   "outputs": [
    {
     "data": {
      "text/plain": [
       "2"
      ]
     },
     "execution_count": 5,
     "metadata": {},
     "output_type": "execute_result"
    }
   ],
   "source": [
    "a[0]"
   ]
  },
  {
   "cell_type": "code",
   "execution_count": 6,
   "id": "f3d5dfc9",
   "metadata": {},
   "outputs": [
    {
     "data": {
      "text/plain": [
       "5"
      ]
     },
     "execution_count": 6,
     "metadata": {},
     "output_type": "execute_result"
    }
   ],
   "source": [
    "a[2]"
   ]
  },
  {
   "cell_type": "code",
   "execution_count": 15,
   "id": "399267ca",
   "metadata": {},
   "outputs": [
    {
     "data": {
      "text/plain": [
       "array([[2, 4, 5],\n",
       "       [5, 7, 8]])"
      ]
     },
     "execution_count": 15,
     "metadata": {},
     "output_type": "execute_result"
    }
   ],
   "source": [
    "a2 = np.array([[2,4,5],[5,7,8]])\n",
    "a2"
   ]
  },
  {
   "cell_type": "code",
   "execution_count": 13,
   "id": "e20a08ec",
   "metadata": {},
   "outputs": [
    {
     "data": {
      "text/plain": [
       "array([[0., 0.],\n",
       "       [0., 0.]])"
      ]
     },
     "execution_count": 13,
     "metadata": {},
     "output_type": "execute_result"
    }
   ],
   "source": [
    "x1 = np.zeros((2,2))\n",
    "x1"
   ]
  },
  {
   "cell_type": "code",
   "execution_count": 14,
   "id": "b5663233",
   "metadata": {},
   "outputs": [
    {
     "data": {
      "text/plain": [
       "array([[1., 1.],\n",
       "       [1., 1.]])"
      ]
     },
     "execution_count": 14,
     "metadata": {},
     "output_type": "execute_result"
    }
   ],
   "source": [
    "x2 = np.ones((2,2))\n",
    "x2"
   ]
  },
  {
   "cell_type": "code",
   "execution_count": 16,
   "id": "7b43205d",
   "metadata": {},
   "outputs": [
    {
     "data": {
      "text/plain": [
       "array([[3, 3],\n",
       "       [3, 3]])"
      ]
     },
     "execution_count": 16,
     "metadata": {},
     "output_type": "execute_result"
    }
   ],
   "source": [
    "x3 = np.full((2,2),3)\n",
    "x3"
   ]
  },
  {
   "cell_type": "code",
   "execution_count": 18,
   "id": "1cf36afa",
   "metadata": {},
   "outputs": [
    {
     "data": {
      "text/plain": [
       "array([[11, 12, 13, 14],\n",
       "       [21, 22, 23, 24],\n",
       "       [31, 32, 33, 34]])"
      ]
     },
     "execution_count": 18,
     "metadata": {},
     "output_type": "execute_result"
    }
   ],
   "source": [
    "arr = np.array([[11,12,13,14],[21,22,23,24],[31,32,33,34]])\n",
    "arr"
   ]
  },
  {
   "cell_type": "code",
   "execution_count": 19,
   "id": "79fdb0c1",
   "metadata": {},
   "outputs": [
    {
     "data": {
      "text/plain": [
       "array([[21, 22, 23, 24],\n",
       "       [31, 32, 33, 34]])"
      ]
     },
     "execution_count": 19,
     "metadata": {},
     "output_type": "execute_result"
    }
   ],
   "source": [
    "r2 = arr[1:3,:]\n",
    "r2"
   ]
  },
  {
   "cell_type": "code",
   "execution_count": 20,
   "id": "c1be5eca",
   "metadata": {},
   "outputs": [
    {
     "data": {
      "text/plain": [
       "dtype('int32')"
      ]
     },
     "execution_count": 20,
     "metadata": {},
     "output_type": "execute_result"
    }
   ],
   "source": [
    "#datatypes\n",
    "d1=np.array([11,12])\n",
    "d1.dtype"
   ]
  },
  {
   "cell_type": "code",
   "execution_count": 21,
   "id": "4d59a75f",
   "metadata": {},
   "outputs": [
    {
     "data": {
      "text/plain": [
       "dtype('float64')"
      ]
     },
     "execution_count": 21,
     "metadata": {},
     "output_type": "execute_result"
    }
   ],
   "source": [
    "d2=np.array([1.0])\n",
    "d2.dtype"
   ]
  },
  {
   "cell_type": "code",
   "execution_count": 22,
   "id": "2b4944d1",
   "metadata": {},
   "outputs": [
    {
     "data": {
      "text/plain": [
       "dtype('int64')"
      ]
     },
     "execution_count": 22,
     "metadata": {},
     "output_type": "execute_result"
    }
   ],
   "source": [
    "d3=np.array([12,13],dtype=np.int64)\n",
    "d3.dtype"
   ]
  },
  {
   "cell_type": "code",
   "execution_count": 23,
   "id": "368ded4a",
   "metadata": {},
   "outputs": [
    {
     "data": {
      "text/plain": [
       "dtype('float64')"
      ]
     },
     "execution_count": 23,
     "metadata": {},
     "output_type": "execute_result"
    }
   ],
   "source": [
    "d4=np.array([1.0],dtype=np.float64)\n",
    "d4.dtype"
   ]
  },
  {
   "cell_type": "code",
   "execution_count": 24,
   "id": "ea6e96e4",
   "metadata": {},
   "outputs": [
    {
     "data": {
      "text/plain": [
       "array([11., 12.])"
      ]
     },
     "execution_count": 24,
     "metadata": {},
     "output_type": "execute_result"
    }
   ],
   "source": [
    "d5=np.array([11,12],dtype=np.float64)\n",
    "d5"
   ]
  },
  {
   "cell_type": "code",
   "execution_count": 25,
   "id": "9b2611cc",
   "metadata": {},
   "outputs": [],
   "source": [
    "#arthmetic operation\n",
    "x=np.array([[11,12],[21,22]],dtype=np.int64)\n",
    "y=np.array([[1.2,4.5],[34.5,67.8]],dtype=np.float64)\n"
   ]
  },
  {
   "cell_type": "code",
   "execution_count": 26,
   "id": "283ffbe0",
   "metadata": {},
   "outputs": [
    {
     "name": "stdout",
     "output_type": "stream",
     "text": [
      "[[12.2 16.5]\n",
      " [55.5 89.8]]\n",
      "[[12.2 16.5]\n",
      " [55.5 89.8]]\n"
     ]
    }
   ],
   "source": [
    "#add\n",
    "print(x+y)\n",
    "print(np.add(x,y))"
   ]
  },
  {
   "cell_type": "code",
   "execution_count": 28,
   "id": "ab1cc699",
   "metadata": {},
   "outputs": [
    {
     "name": "stdout",
     "output_type": "stream",
     "text": [
      "[[  9.8   7.5]\n",
      " [-13.5 -45.8]]\n",
      "[[  9.8   7.5]\n",
      " [-13.5 -45.8]]\n"
     ]
    }
   ],
   "source": [
    "#subsract\n",
    "print(x-y)\n",
    "print(np.subtract(x,y))"
   ]
  },
  {
   "cell_type": "code",
   "execution_count": 29,
   "id": "0c17aadb",
   "metadata": {},
   "outputs": [
    {
     "name": "stdout",
     "output_type": "stream",
     "text": [
      "[[  13.2   54. ]\n",
      " [ 724.5 1491.6]]\n",
      "[[  13.2   54. ]\n",
      " [ 724.5 1491.6]]\n"
     ]
    }
   ],
   "source": [
    "#multiply\n",
    "print(x*y)\n",
    "print(np.multiply(x,y))"
   ]
  },
  {
   "cell_type": "code",
   "execution_count": 31,
   "id": "53d7725a",
   "metadata": {},
   "outputs": [
    {
     "name": "stdout",
     "output_type": "stream",
     "text": [
      "[[9.16666667 2.66666667]\n",
      " [0.60869565 0.32448378]]\n",
      "[[9.16666667 2.66666667]\n",
      " [0.60869565 0.32448378]]\n"
     ]
    }
   ],
   "source": [
    "#devide\n",
    "print(x/y)\n",
    "print(np.divide(x,y))"
   ]
  },
  {
   "cell_type": "code",
   "execution_count": 32,
   "id": "0be66077",
   "metadata": {},
   "outputs": [
    {
     "data": {
      "text/plain": [
       "array([[3.31662479, 3.46410162],\n",
       "       [4.58257569, 4.69041576]])"
      ]
     },
     "execution_count": 32,
     "metadata": {},
     "output_type": "execute_result"
    }
   ],
   "source": [
    "#square root\n",
    "np.sqrt(x)"
   ]
  },
  {
   "cell_type": "code",
   "execution_count": 34,
   "id": "2bf45998",
   "metadata": {},
   "outputs": [
    {
     "data": {
      "text/plain": [
       "array([[ -1.98943002,  11.90464865, -23.70858348,  -0.26048858,\n",
       "          2.47924481],\n",
       "       [ -4.97187559,   4.03086045,  -8.6828474 ,   7.87291616,\n",
       "         11.00776609],\n",
       "       [ -0.80850757,   1.69199106,   4.5996142 ,  -7.73973958,\n",
       "          8.62819005]])"
      ]
     },
     "execution_count": 34,
     "metadata": {},
     "output_type": "execute_result"
    }
   ],
   "source": [
    "#basic statiscal operation\n",
    "ar1=10*np.random.randn(3,5)\n",
    "ar1"
   ]
  },
  {
   "cell_type": "code",
   "execution_count": 35,
   "id": "7500b12d",
   "metadata": {},
   "outputs": [
    {
     "data": {
      "text/plain": [
       "0.2702506176928774"
      ]
     },
     "execution_count": 35,
     "metadata": {},
     "output_type": "execute_result"
    }
   ],
   "source": [
    "ar1.mean()"
   ]
  },
  {
   "cell_type": "code",
   "execution_count": 36,
   "id": "5767d4ae",
   "metadata": {},
   "outputs": [
    {
     "data": {
      "text/plain": [
       "array([-2.31492172,  1.85136394,  1.27430963])"
      ]
     },
     "execution_count": 36,
     "metadata": {},
     "output_type": "execute_result"
    }
   ],
   "source": [
    "ar1.mean(axis=1)"
   ]
  },
  {
   "cell_type": "markdown",
   "id": "87e959b7",
   "metadata": {},
   "source": []
  },
  {
   "cell_type": "code",
   "execution_count": 37,
   "id": "f0d4dbbb",
   "metadata": {},
   "outputs": [
    {
     "data": {
      "text/plain": [
       "array([-2.58993772,  5.87583339, -9.26393889, -0.04243733,  7.37173365])"
      ]
     },
     "execution_count": 37,
     "metadata": {},
     "output_type": "execute_result"
    }
   ],
   "source": [
    "ar1.mean(axis=0)"
   ]
  },
  {
   "cell_type": "code",
   "execution_count": 38,
   "id": "31b3a7ad",
   "metadata": {},
   "outputs": [
    {
     "data": {
      "text/plain": [
       "4.053759265393161"
      ]
     },
     "execution_count": 38,
     "metadata": {},
     "output_type": "execute_result"
    }
   ],
   "source": [
    "ar1.sum()"
   ]
  },
  {
   "cell_type": "code",
   "execution_count": 39,
   "id": "5930dbe2",
   "metadata": {},
   "outputs": [
    {
     "data": {
      "text/plain": [
       "1.6919910623356635"
      ]
     },
     "execution_count": 39,
     "metadata": {},
     "output_type": "execute_result"
    }
   ],
   "source": [
    "np.median(ar1)"
   ]
  },
  {
   "cell_type": "code",
   "execution_count": 41,
   "id": "1bd6a772",
   "metadata": {},
   "outputs": [
    {
     "data": {
      "text/plain": [
       "array([ 0.13351174,  1.87785222,  1.27246541,  1.09186885,  0.19268445,\n",
       "        1.53086275, -1.53537623,  1.22688067, -1.92544619, -1.01342668])"
      ]
     },
     "execution_count": 41,
     "metadata": {},
     "output_type": "execute_result"
    }
   ],
   "source": [
    "#sorting\n",
    "unsorted=np.random.randn(10)\n",
    "unsorted"
   ]
  },
  {
   "cell_type": "code",
   "execution_count": 42,
   "id": "d3b93fd6",
   "metadata": {},
   "outputs": [
    {
     "data": {
      "text/plain": [
       "array([-1.92544619, -1.53537623, -1.01342668,  0.13351174,  0.19268445,\n",
       "        1.09186885,  1.22688067,  1.27246541,  1.53086275,  1.87785222])"
      ]
     },
     "execution_count": 42,
     "metadata": {},
     "output_type": "execute_result"
    }
   ],
   "source": [
    "s=unsorted\n",
    "s.sort()\n",
    "s"
   ]
  },
  {
   "cell_type": "code",
   "execution_count": 43,
   "id": "a4902869",
   "metadata": {},
   "outputs": [
    {
     "name": "stdout",
     "output_type": "stream",
     "text": [
      "[1 2 3 4 5]\n"
     ]
    }
   ],
   "source": [
    "#finding unique elements\n",
    "u = np.array([1,2,3,4,2,3,5])\n",
    "print(np.unique(u))"
   ]
  },
  {
   "cell_type": "code",
   "execution_count": 45,
   "id": "6c26c616",
   "metadata": {},
   "outputs": [
    {
     "name": "stdout",
     "output_type": "stream",
     "text": [
      "['bulb' 'chair' 'lamb'] ['desk' 'bulb' 'chair']\n"
     ]
    }
   ],
   "source": [
    "s1 = np.array(['bulb','chair','lamb'])\n",
    "s2 = np.array(['desk','bulb','chair'])\n",
    "print(s1,s2)\n"
   ]
  },
  {
   "cell_type": "code",
   "execution_count": 50,
   "id": "0ce144b1",
   "metadata": {},
   "outputs": [
    {
     "name": "stdout",
     "output_type": "stream",
     "text": [
      "['bulb' 'chair']\n"
     ]
    }
   ],
   "source": [
    "print(np.intersect1d(s1,s2))"
   ]
  },
  {
   "cell_type": "code",
   "execution_count": null,
   "id": "01a3de45",
   "metadata": {},
   "outputs": [],
   "source": []
  }
 ],
 "metadata": {
  "kernelspec": {
   "display_name": "Python 3 (ipykernel)",
   "language": "python",
   "name": "python3"
  },
  "language_info": {
   "codemirror_mode": {
    "name": "ipython",
    "version": 3
   },
   "file_extension": ".py",
   "mimetype": "text/x-python",
   "name": "python",
   "nbconvert_exporter": "python",
   "pygments_lexer": "ipython3",
   "version": "3.9.7"
  }
 },
 "nbformat": 4,
 "nbformat_minor": 5
}
